{
 "cells": [
  {
   "cell_type": "code",
   "execution_count": 124,
   "metadata": {},
   "outputs": [],
   "source": [
    "from sklearn.cluster import KMeans\n",
    "import numpy as np\n",
    "import pandas as pd\n",
    "from sklearn.feature_extraction.text import CountVectorizer\n",
    "from sklearn.feature_extraction.text import TfidfVectorizer\n",
    "import re\n",
    "import matplotlib.pyplot as plt\n",
    "import seaborn as sns"
   ]
  },
  {
   "cell_type": "code",
   "execution_count": 125,
   "metadata": {},
   "outputs": [],
   "source": [
    "df = pd.read_csv(\"data.csv\",encoding= 'unicode_escape')"
   ]
  },
  {
   "cell_type": "code",
   "execution_count": 126,
   "metadata": {},
   "outputs": [
    {
     "data": {
      "text/html": [
       "<div>\n",
       "<style scoped>\n",
       "    .dataframe tbody tr th:only-of-type {\n",
       "        vertical-align: middle;\n",
       "    }\n",
       "\n",
       "    .dataframe tbody tr th {\n",
       "        vertical-align: top;\n",
       "    }\n",
       "\n",
       "    .dataframe thead th {\n",
       "        text-align: right;\n",
       "    }\n",
       "</style>\n",
       "<table border=\"1\" class=\"dataframe\">\n",
       "  <thead>\n",
       "    <tr style=\"text-align: right;\">\n",
       "      <th></th>\n",
       "      <th>date</th>\n",
       "      <th>username</th>\n",
       "      <th>to</th>\n",
       "      <th>replies</th>\n",
       "      <th>retweets</th>\n",
       "      <th>favorites</th>\n",
       "      <th>text</th>\n",
       "      <th>geo</th>\n",
       "      <th>mentions</th>\n",
       "      <th>hashtags</th>\n",
       "      <th>...</th>\n",
       "      <th>F14</th>\n",
       "      <th>F15</th>\n",
       "      <th>Unnamed: 15</th>\n",
       "      <th>Unnamed: 16</th>\n",
       "      <th>Unnamed: 17</th>\n",
       "      <th>Unnamed: 18</th>\n",
       "      <th>Unnamed: 19</th>\n",
       "      <th>Unnamed: 20</th>\n",
       "      <th>Unnamed: 21</th>\n",
       "      <th>Unnamed: 22</th>\n",
       "    </tr>\n",
       "  </thead>\n",
       "  <tbody>\n",
       "    <tr>\n",
       "      <th>0</th>\n",
       "      <td>22:26.0</td>\n",
       "      <td>WHO</td>\n",
       "      <td>NaN</td>\n",
       "      <td>17</td>\n",
       "      <td>80</td>\n",
       "      <td>221</td>\n",
       "      <td>\"We are committed to serving the world?? peopl...</td>\n",
       "      <td>NaN</td>\n",
       "      <td>@DrTedros</td>\n",
       "      <td>#COVID19</td>\n",
       "      <td>...</td>\n",
       "      <td>NaN</td>\n",
       "      <td>NaN</td>\n",
       "      <td>NaN</td>\n",
       "      <td>NaN</td>\n",
       "      <td>NaN</td>\n",
       "      <td>NaN</td>\n",
       "      <td>NaN</td>\n",
       "      <td>NaN</td>\n",
       "      <td>NaN</td>\n",
       "      <td>NaN</td>\n",
       "    </tr>\n",
       "    <tr>\n",
       "      <th>1</th>\n",
       "      <td>22:00.0</td>\n",
       "      <td>WHO</td>\n",
       "      <td>NaN</td>\n",
       "      <td>22</td>\n",
       "      <td>86</td>\n",
       "      <td>255</td>\n",
       "      <td>\"Neither do we. This is a time for all of us t...</td>\n",
       "      <td>NaN</td>\n",
       "      <td>@DrTedros</td>\n",
       "      <td>#coronavirus #COVID19</td>\n",
       "      <td>...</td>\n",
       "      <td>NaN</td>\n",
       "      <td>NaN</td>\n",
       "      <td>NaN</td>\n",
       "      <td>NaN</td>\n",
       "      <td>NaN</td>\n",
       "      <td>NaN</td>\n",
       "      <td>NaN</td>\n",
       "      <td>NaN</td>\n",
       "      <td>NaN</td>\n",
       "      <td>NaN</td>\n",
       "    </tr>\n",
       "    <tr>\n",
       "      <th>2</th>\n",
       "      <td>21:37.0</td>\n",
       "      <td>WHO</td>\n",
       "      <td>NaN</td>\n",
       "      <td>25</td>\n",
       "      <td>136</td>\n",
       "      <td>314</td>\n",
       "      <td>\"#COVID19 does not discriminate between rich n...</td>\n",
       "      <td>NaN</td>\n",
       "      <td>@DrTedros</td>\n",
       "      <td>#COVID19</td>\n",
       "      <td>...</td>\n",
       "      <td>NaN</td>\n",
       "      <td>NaN</td>\n",
       "      <td>NaN</td>\n",
       "      <td>NaN</td>\n",
       "      <td>NaN</td>\n",
       "      <td>NaN</td>\n",
       "      <td>NaN</td>\n",
       "      <td>NaN</td>\n",
       "      <td>NaN</td>\n",
       "      <td>NaN</td>\n",
       "    </tr>\n",
       "    <tr>\n",
       "      <th>3</th>\n",
       "      <td>20:55.0</td>\n",
       "      <td>WHO</td>\n",
       "      <td>NaN</td>\n",
       "      <td>116</td>\n",
       "      <td>277</td>\n",
       "      <td>669</td>\n",
       "      <td>WHO is reviewing the impact on our work of any...</td>\n",
       "      <td>NaN</td>\n",
       "      <td>@DrTedros</td>\n",
       "      <td>#COVID19</td>\n",
       "      <td>...</td>\n",
       "      <td>NaN</td>\n",
       "      <td>NaN</td>\n",
       "      <td>NaN</td>\n",
       "      <td>NaN</td>\n",
       "      <td>NaN</td>\n",
       "      <td>NaN</td>\n",
       "      <td>NaN</td>\n",
       "      <td>NaN</td>\n",
       "      <td>NaN</td>\n",
       "      <td>NaN</td>\n",
       "    </tr>\n",
       "    <tr>\n",
       "      <th>4</th>\n",
       "      <td>20:18.0</td>\n",
       "      <td>WHO</td>\n",
       "      <td>NaN</td>\n",
       "      <td>30</td>\n",
       "      <td>217</td>\n",
       "      <td>574</td>\n",
       "      <td>\"WHO is not only fighting #COVID19. We??e also...</td>\n",
       "      <td>NaN</td>\n",
       "      <td>@DrTedros</td>\n",
       "      <td>#COVID19</td>\n",
       "      <td>...</td>\n",
       "      <td>NaN</td>\n",
       "      <td>NaN</td>\n",
       "      <td>NaN</td>\n",
       "      <td>NaN</td>\n",
       "      <td>NaN</td>\n",
       "      <td>NaN</td>\n",
       "      <td>NaN</td>\n",
       "      <td>NaN</td>\n",
       "      <td>NaN</td>\n",
       "      <td>NaN</td>\n",
       "    </tr>\n",
       "  </tbody>\n",
       "</table>\n",
       "<p>5 rows × 23 columns</p>\n",
       "</div>"
      ],
      "text/plain": [
       "      date username   to  replies  retweets  favorites  \\\n",
       "0  22:26.0      WHO  NaN       17        80        221   \n",
       "1  22:00.0      WHO  NaN       22        86        255   \n",
       "2  21:37.0      WHO  NaN       25       136        314   \n",
       "3  20:55.0      WHO  NaN      116       277        669   \n",
       "4  20:18.0      WHO  NaN       30       217        574   \n",
       "\n",
       "                                                text  geo   mentions  \\\n",
       "0  \"We are committed to serving the world?? peopl...  NaN  @DrTedros   \n",
       "1  \"Neither do we. This is a time for all of us t...  NaN  @DrTedros   \n",
       "2  \"#COVID19 does not discriminate between rich n...  NaN  @DrTedros   \n",
       "3  WHO is reviewing the impact on our work of any...  NaN  @DrTedros   \n",
       "4  \"WHO is not only fighting #COVID19. We??e also...  NaN  @DrTedros   \n",
       "\n",
       "                hashtags  ...  F14  F15 Unnamed: 15 Unnamed: 16 Unnamed: 17  \\\n",
       "0               #COVID19  ...  NaN  NaN         NaN         NaN         NaN   \n",
       "1  #coronavirus #COVID19  ...  NaN  NaN         NaN         NaN         NaN   \n",
       "2               #COVID19  ...  NaN  NaN         NaN         NaN         NaN   \n",
       "3               #COVID19  ...  NaN  NaN         NaN         NaN         NaN   \n",
       "4               #COVID19  ...  NaN  NaN         NaN         NaN         NaN   \n",
       "\n",
       "  Unnamed: 18 Unnamed: 19 Unnamed: 20  Unnamed: 21 Unnamed: 22  \n",
       "0         NaN         NaN         NaN          NaN         NaN  \n",
       "1         NaN         NaN         NaN          NaN         NaN  \n",
       "2         NaN         NaN         NaN          NaN         NaN  \n",
       "3         NaN         NaN         NaN          NaN         NaN  \n",
       "4         NaN         NaN         NaN          NaN         NaN  \n",
       "\n",
       "[5 rows x 23 columns]"
      ]
     },
     "execution_count": 126,
     "metadata": {},
     "output_type": "execute_result"
    }
   ],
   "source": [
    "df.head()"
   ]
  },
  {
   "cell_type": "markdown",
   "metadata": {},
   "source": [
    "as we can see all the tweets are from WHO so we don't have to consider username in our clustring hence we continue with text column only"
   ]
  },
  {
   "cell_type": "code",
   "execution_count": 127,
   "metadata": {},
   "outputs": [
    {
     "data": {
      "image/png": "[encoded data removed]",
      "text/plain": [
       "<Figure size 576x360 with 1 Axes>"
      ]
     },
     "metadata": {
      "needs_background": "light"
     },
     "output_type": "display_data"
    }
   ],
   "source": [
    "df['username'].value_counts().plot(kind='barh', figsize=[8,5], fontsize=15, color='navy').invert_yaxis()"
   ]
  },
  {
   "cell_type": "code",
   "execution_count": 128,
   "metadata": {},
   "outputs": [
    {
     "data": {
      "text/plain": [
       "0       \"We are committed to serving the world?? peopl...\n",
       "1       \"Neither do we. This is a time for all of us t...\n",
       "2       \"#COVID19 does not discriminate between rich n...\n",
       "3       WHO is reviewing the impact on our work of any...\n",
       "4       \"WHO is not only fighting #COVID19. We??e also...\n",
       "                              ...                        \n",
       "2158    Protect yourself & reduce risk from #coronavir...\n",
       "2159    As surveillance improves around the world, mor...\n",
       "2160    Novel coronaviruses emerge periodically, as we...\n",
       "2161    A novel #coronavirus is a new strain of the vi...\n",
       "2162    Some coronaviruses cause less-severe disease, ...\n",
       "Name: text, Length: 2163, dtype: object"
      ]
     },
     "execution_count": 128,
     "metadata": {},
     "output_type": "execute_result"
    }
   ],
   "source": [
    "df[\"text\"]"
   ]
  },
  {
   "cell_type": "markdown",
   "metadata": {},
   "source": [
    "# removing the stopwords using nltk"
   ]
  },
  {
   "cell_type": "code",
   "execution_count": 129,
   "metadata": {},
   "outputs": [
    {
     "name": "stderr",
     "output_type": "stream",
     "text": [
      "[nltk_data] Downloading package stopwords to C:\\Users\\Ali\n",
      "[nltk_data]     Haider\\AppData\\Roaming\\nltk_data...\n",
      "[nltk_data]   Package stopwords is already up-to-date!\n",
      "[nltk_data] Downloading package punkt to C:\\Users\\Ali\n",
      "[nltk_data]     Haider\\AppData\\Roaming\\nltk_data...\n",
      "[nltk_data]   Package punkt is already up-to-date!\n",
      "[nltk_data] Error loading corpus: Package 'corpus' not found in index\n"
     ]
    },
    {
     "data": {
      "text/plain": [
       "['i', 'me', 'my', 'myself', 'we', 'our', 'ours', 'ourselves', 'you', \"you're\"]"
      ]
     },
     "execution_count": 129,
     "metadata": {},
     "output_type": "execute_result"
    }
   ],
   "source": [
    "import nltk\n",
    "from nltk.corpus import stopwords\n",
    "nltk.download('stopwords')\n",
    "nltk.download('punkt')\n",
    "nltk.download('corpus')\n",
    "\n",
    "stopwords.words(\"english\")[:10] # <-- import the english stopwords"
   ]
  },
  {
   "cell_type": "code",
   "execution_count": 130,
   "metadata": {},
   "outputs": [],
   "source": [
    "def preprocess_text(text: str, remove_stopwords: bool) -> str:\n",
    "    text = re.sub(r\"http\\S+\", \"\", text)\n",
    "    # remove special chars and numbers\n",
    "    text = re.sub(\"[^A-Za-z]+\", \" \", text)\n",
    "    # remove stopwords\n",
    "    if remove_stopwords:\n",
    "        # 1. tokenize\n",
    "        tokens = nltk.word_tokenize(text)\n",
    "        # 2. check if stopword\n",
    "        tokens = [w for w in tokens if not w.lower() in stopwords.words(\"english\")]\n",
    "        # 3. join back together\n",
    "        text = \" \".join(tokens)\n",
    "    # return text in lower case and stripped of whitespaces\n",
    "    text = text.lower().strip()\n",
    "    return text"
   ]
  },
  {
   "cell_type": "code",
   "execution_count": 131,
   "metadata": {},
   "outputs": [],
   "source": [
    "df['cleaned'] = df['text'].apply(lambda x: preprocess_text(x, remove_stopwords=True))"
   ]
  },
  {
   "cell_type": "markdown",
   "metadata": {},
   "source": [
    "# data after cleaning"
   ]
  },
  {
   "cell_type": "code",
   "execution_count": 132,
   "metadata": {},
   "outputs": [
    {
     "data": {
      "text/plain": [
       "0       committed serving world people accountability ...\n",
       "1       neither time us united common struggle common ...\n",
       "2       covid discriminate rich nations poor large nat...\n",
       "3       reviewing impact work withdrawal funding work ...\n",
       "4       fighting covid e also working address polio me...\n",
       "                              ...                        \n",
       "2158    protect reduce risk coronavirus infection hand...\n",
       "2159    surveillance improves around world coronavirus...\n",
       "2160    novel coronaviruses emerge periodically seen s...\n",
       "2161    novel coronavirus new strain virus previously ...\n",
       "2162    coronaviruses cause less severe disease severe...\n",
       "Name: cleaned, Length: 2163, dtype: object"
      ]
     },
     "execution_count": 132,
     "metadata": {},
     "output_type": "execute_result"
    }
   ],
   "source": [
    "df['cleaned']"
   ]
  },
  {
   "cell_type": "code",
   "execution_count": 133,
   "metadata": {},
   "outputs": [],
   "source": [
    "vectorizer = TfidfVectorizer(sublinear_tf=True, min_df=5, max_df=0.95)\n",
    "# fit_transform applies TF-IDF to clean texts - we save the array of vectors in X\n",
    "X = vectorizer.fit_transform(df['cleaned'])"
   ]
  },
  {
   "cell_type": "code",
   "execution_count": 134,
   "metadata": {},
   "outputs": [
    {
     "data": {
      "text/plain": [
       "array([[0.        , 0.        , 0.        , ..., 0.        , 0.        ,\n",
       "        0.        ],\n",
       "       [0.        , 0.        , 0.        , ..., 0.        , 0.        ,\n",
       "        0.        ],\n",
       "       [0.        , 0.        , 0.        , ..., 0.        , 0.        ,\n",
       "        0.        ],\n",
       "       ...,\n",
       "       [0.        , 0.        , 0.        , ..., 0.        , 0.27078544,\n",
       "        0.        ],\n",
       "       [0.        , 0.        , 0.        , ..., 0.        , 0.        ,\n",
       "        0.        ],\n",
       "       [0.        , 0.        , 0.        , ..., 0.        , 0.        ,\n",
       "        0.        ]])"
      ]
     },
     "execution_count": 134,
     "metadata": {},
     "output_type": "execute_result"
    }
   ],
   "source": [
    "X.toarray()"
   ]
  },
  {
   "cell_type": "markdown",
   "metadata": {},
   "source": [
    "# finding optimal K using The Silhouette Method"
   ]
  },
  {
   "cell_type": "code",
   "execution_count": 135,
   "metadata": {},
   "outputs": [],
   "source": [
    "from sklearn.metrics import silhouette_score\n",
    "from sklearn.cluster import KMeans\n",
    "sil = []\n",
    "for i in range (2,7):\n",
    "    # initialize kmeans with 3 centroids\n",
    "    kmeans = KMeans(n_clusters=i, random_state=42)\n",
    "    # fit the model\n",
    "    kmeans.fit(X)\n",
    "    # store cluster labels in a variable\n",
    "    clusters = kmeans.labels_\n",
    "    sil.append(silhouette_score(X, clusters, metric = 'euclidean'))"
   ]
  },
  {
   "cell_type": "code",
   "execution_count": 136,
   "metadata": {},
   "outputs": [
    {
     "data": {
      "text/plain": [
       "[0.020521735384484496,\n",
       " 0.022047816541813172,\n",
       " 0.024230869118046804,\n",
       " 0.03017336090814542,\n",
       " 0.028128533826625085]"
      ]
     },
     "execution_count": 136,
     "metadata": {},
     "output_type": "execute_result"
    }
   ],
   "source": [
    "sil"
   ]
  },
  {
   "cell_type": "code",
   "execution_count": 137,
   "metadata": {},
   "outputs": [
    {
     "data": {
      "text/plain": [
       "4"
      ]
     },
     "execution_count": 137,
     "metadata": {},
     "output_type": "execute_result"
    },
    {
     "data": {
      "image/png": "[encoded data removed]",
      "text/plain": [
       "<Figure size 432x288 with 1 Axes>"
      ]
     },
     "metadata": {
      "needs_background": "light"
     },
     "output_type": "display_data"
    }
   ],
   "source": [
    "plt.plot(sil,'.')\n",
    "plt.title(\"plot the silhouette_score\")\n",
    "optclust= np.argmax(sil)+1 # as indexing starts from 0\n",
    "optclust"
   ]
  },
  {
   "cell_type": "markdown",
   "metadata": {},
   "source": [
    "As we can see there's a clear peak at 4 so optimal number Ks are 4"
   ]
  },
  {
   "cell_type": "code",
   "execution_count": 138,
   "metadata": {},
   "outputs": [],
   "source": [
    "from sklearn.cluster import KMeans\n",
    "from sklearn.decomposition import PCA\n",
    "\n",
    "# initialize kmeans with 3 centroids\n",
    "kmeans = KMeans(n_clusters=optclust, random_state=42)\n",
    "# fit the model\n",
    "kmeans.fit(X)\n",
    "# store cluster labels in a variable\n",
    "clusters = kmeans.labels_\n",
    "# initialize PCA with 2 components\n",
    "pca = PCA(n_components=2, random_state=42)\n",
    "# pass our X to the pca and store the reduced vectors into pca_vecs\n",
    "pca_vecs = pca.fit_transform(X.toarray())\n",
    "# save our two dimensions into x0 and x1\n",
    "x0 = pca_vecs[:, 0]\n",
    "x1 = pca_vecs[:, 1]"
   ]
  },
  {
   "cell_type": "code",
   "execution_count": 139,
   "metadata": {},
   "outputs": [],
   "source": [
    "df['cluster'] = clusters\n",
    "df['x0'] = x0\n",
    "df['x1'] = x1"
   ]
  },
  {
   "cell_type": "code",
   "execution_count": 140,
   "metadata": {},
   "outputs": [
    {
     "data": {
      "image/png": "[encoded data removed]",
      "text/plain": [
       "<Figure size 864x504 with 1 Axes>"
      ]
     },
     "metadata": {
      "needs_background": "light"
     },
     "output_type": "display_data"
    }
   ],
   "source": [
    "# set image size\n",
    "plt.figure(figsize=(12, 7))\n",
    "# set a title\n",
    "plt.title(\"TF-IDF + KMeans on optimal number of K\", fontdict={\"fontsize\": 18})\n",
    "# create scatter plot with seaborn, where hue is the class used to group the data\n",
    "sns.scatterplot(data=df, x='x0', y='x1', hue='cluster', palette=\"viridis\")\n",
    "plt.show()"
   ]
  },
  {
   "cell_type": "markdown",
   "metadata": {},
   "source": [
    "# Assigning topics to each cluster."
   ]
  },
  {
   "cell_type": "code",
   "execution_count": 141,
   "metadata": {},
   "outputs": [
    {
     "name": "stdout",
     "output_type": "stream",
     "text": [
      "\n",
      "Cluster 0\n",
      "support,amp,world,pandemic,response,coronavirus,health,countries,drtedros,covid\n",
      "\n",
      "Cluster 1\n",
      "today,live,photos,coronavirus,daily,covid,drtedros,full,media,briefing\n",
      "\n",
      "Cluster 2\n",
      "concern,provided,following,new,coronavirus,health,regulations,international,committee,emergency\n",
      "\n",
      "Cluster 3\n",
      "people,drtedros,reported,countries,new,transmission,covid,amp,cases,coronavirus\n"
     ]
    }
   ],
   "source": [
    "def get_top_keywords(n_terms):\n",
    "    \"\"\"This function returns the keywords for each centroid of the KMeans\"\"\"\n",
    "    df = pd.DataFrame(X.todense()).groupby(clusters).mean() # groups the TF-IDF vector by cluster\n",
    "    terms = vectorizer.get_feature_names() # access tf-idf terms\n",
    "    for i,r in df.iterrows():\n",
    "        print('\\nCluster {}'.format(i))\n",
    "        print(','.join([terms[t] for t in np.argsort(r)[-n_terms:]])) # for each row of the dataframe, find the n terms that have the highest tf idf score\n",
    "            \n",
    "get_top_keywords(10)"
   ]
  },
  {
   "cell_type": "markdown",
   "metadata": {},
   "source": [
    "Cluster 0 : \n",
    "Countries supporting each other in Covid.\n",
    "Cluster 1 :\n",
    "Live daily updates about covid situation\n",
    "Cluster 2 : \n",
    "Concern related to coronavirus\n",
    "Cluster 3 : \n",
    "peoples and countries response to corona virus"
   ]
  },
  {
   "cell_type": "code",
   "execution_count": null,
   "metadata": {},
   "outputs": [],
   "source": []
  }
 ],
 "metadata": {
  "kernelspec": {
   "display_name": "Python 3",
   "language": "python",
   "name": "python3"
  },
  "language_info": {
   "codemirror_mode": {
    "name": "ipython",
    "version": 3
   },
   "file_extension": ".py",
   "mimetype": "text/x-python",
   "name": "python",
   "nbconvert_exporter": "python",
   "pygments_lexer": "ipython3",
   "version": "3.7.9"
  }
 },
 "nbformat": 4,
 "nbformat_minor": 4
}
